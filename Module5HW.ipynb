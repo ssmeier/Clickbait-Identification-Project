{
 "cells": [
  {
   "cell_type": "markdown",
   "metadata": {
    "collapsed": false,
    "pycharm": {
     "name": "#%% md\n"
    }
   },
   "source": [
    "# Clickbait Headline Identification\n",
    "In this experiment you are to pit three cross-validated models against either other:\n",
    "\n",
    "    k-nearest neighbors\n",
    "    Naïve Bayes\n",
    "    Multilayer perceptron\n",
    "\n",
    "Each model must be cross-validated using a 5-fold cross validator (for example, in the k-nearest neighbors case, the value of the hyperparameter \"k\" must be selected through cross-validation).  In the case of the neural network, select 10 network configurations (layer sizes) to use in your experiment where the \"winner\" is selected by cross validation.\n",
    "\n",
    "In addition to your computations, at the end of your notebook, please include a markdown block indicating:\n",
    "\n",
    "   - What data representation you used (counts or Tfidf);\n",
    "   - What metric you selected to rank the models;\n",
    "   - How each model scored on each metric both on testing (give the mean CV result +/- the standard deviation) and training data;\n",
    "   - What values of the hyperparameters gave optimal results in the cross validation;\n",
    "   - Describe a way in which your classifier could be used as a plugin for a web browser, for example."
   ]
  },
  {
   "cell_type": "code",
   "execution_count": 1,
   "metadata": {
    "collapsed": false,
    "pycharm": {
     "name": "#%%\n"
    }
   },
   "outputs": [],
   "source": [
    "# Import Statements\n",
    "import math\n",
    "import pandas as pd\n",
    "import matplotlib.pyplot as plt\n",
    "import numpy as np\n",
    "import sklearn as sk\n",
    "from IPython.core.display import display\n",
    "from numpy import average, std\n",
    "from sklearn.metrics import accuracy_score, plot_confusion_matrix, r2_score, mean_squared_error, \\\n",
    "    average_precision_score, make_scorer\n",
    "from sklearn.model_selection import train_test_split, GridSearchCV, KFold\n",
    "from sklearn.naive_bayes import MultinomialNB\n",
    "from sklearn.neighbors import KNeighborsClassifier\n",
    "from sklearn.neural_network import MLPClassifier, MLPRegressor\n",
    "from sklearn import datasets\n",
    "from sklearn.pipeline import Pipeline\n",
    "from sklearn.feature_extraction.text import TfidfVectorizer\n",
    "from sklearn.model_selection import cross_validate, cross_val_score, cross_val_predict\n",
    "from sklearn.preprocessing import LabelEncoder\n",
    "\n"
   ]
  },
  {
   "cell_type": "code",
   "execution_count": 2,
   "metadata": {
    "collapsed": false,
    "pycharm": {
     "name": "#%%\n"
    }
   },
   "outputs": [
    {
     "data": {
      "text/html": [
       "<div>\n",
       "<style scoped>\n",
       "    .dataframe tbody tr th:only-of-type {\n",
       "        vertical-align: middle;\n",
       "    }\n",
       "\n",
       "    .dataframe tbody tr th {\n",
       "        vertical-align: top;\n",
       "    }\n",
       "\n",
       "    .dataframe thead th {\n",
       "        text-align: right;\n",
       "    }\n",
       "</style>\n",
       "<table border=\"1\" class=\"dataframe\">\n",
       "  <thead>\n",
       "    <tr style=\"text-align: right;\">\n",
       "      <th></th>\n",
       "      <th>message</th>\n",
       "    </tr>\n",
       "  </thead>\n",
       "  <tbody>\n",
       "    <tr>\n",
       "      <th>0</th>\n",
       "      <td>Should I Get Bings</td>\n",
       "    </tr>\n",
       "    <tr>\n",
       "      <th>1</th>\n",
       "      <td>Which TV Female Friend Group Do You Belong In</td>\n",
       "    </tr>\n",
       "    <tr>\n",
       "      <th>2</th>\n",
       "      <td>The New \"Star Wars: The Force Awakens\" Trailer...</td>\n",
       "    </tr>\n",
       "    <tr>\n",
       "      <th>3</th>\n",
       "      <td>This Vine Of New York On \"Celebrity Big Brothe...</td>\n",
       "    </tr>\n",
       "    <tr>\n",
       "      <th>4</th>\n",
       "      <td>A Couple Did A Stunning Photo Shoot With Their...</td>\n",
       "    </tr>\n",
       "    <tr>\n",
       "      <th>...</th>\n",
       "      <td>...</td>\n",
       "    </tr>\n",
       "    <tr>\n",
       "      <th>15994</th>\n",
       "      <td>There Was A Mini \"Sisterhood Of The Traveling ...</td>\n",
       "    </tr>\n",
       "    <tr>\n",
       "      <th>15995</th>\n",
       "      <td>21 Dogs Who Are Thankful For Their Best Friends</td>\n",
       "    </tr>\n",
       "    <tr>\n",
       "      <th>15996</th>\n",
       "      <td>People Are Proving No Dick Is Too Big By Dropp...</td>\n",
       "    </tr>\n",
       "    <tr>\n",
       "      <th>15997</th>\n",
       "      <td>I'm An Atheist, But I'm Not</td>\n",
       "    </tr>\n",
       "    <tr>\n",
       "      <th>15998</th>\n",
       "      <td>An Artist Drew Disney Men As Justin Bieber And...</td>\n",
       "    </tr>\n",
       "  </tbody>\n",
       "</table>\n",
       "<p>15999 rows × 1 columns</p>\n",
       "</div>"
      ],
      "text/plain": [
       "                                                 message\n",
       "0                                     Should I Get Bings\n",
       "1          Which TV Female Friend Group Do You Belong In\n",
       "2      The New \"Star Wars: The Force Awakens\" Trailer...\n",
       "3      This Vine Of New York On \"Celebrity Big Brothe...\n",
       "4      A Couple Did A Stunning Photo Shoot With Their...\n",
       "...                                                  ...\n",
       "15994  There Was A Mini \"Sisterhood Of The Traveling ...\n",
       "15995    21 Dogs Who Are Thankful For Their Best Friends\n",
       "15996  People Are Proving No Dick Is Too Big By Dropp...\n",
       "15997                        I'm An Atheist, But I'm Not\n",
       "15998  An Artist Drew Disney Men As Justin Bieber And...\n",
       "\n",
       "[15999 rows x 1 columns]"
      ]
     },
     "metadata": {},
     "output_type": "display_data"
    },
    {
     "data": {
      "text/html": [
       "<div>\n",
       "<style scoped>\n",
       "    .dataframe tbody tr th:only-of-type {\n",
       "        vertical-align: middle;\n",
       "    }\n",
       "\n",
       "    .dataframe tbody tr th {\n",
       "        vertical-align: top;\n",
       "    }\n",
       "\n",
       "    .dataframe thead th {\n",
       "        text-align: right;\n",
       "    }\n",
       "</style>\n",
       "<table border=\"1\" class=\"dataframe\">\n",
       "  <thead>\n",
       "    <tr style=\"text-align: right;\">\n",
       "      <th></th>\n",
       "      <th>message</th>\n",
       "    </tr>\n",
       "  </thead>\n",
       "  <tbody>\n",
       "    <tr>\n",
       "      <th>0</th>\n",
       "      <td>Bill Changing Credit Card Rules Is Sent to Oba...</td>\n",
       "    </tr>\n",
       "    <tr>\n",
       "      <th>1</th>\n",
       "      <td>In Hollywood, the Easy-Money Generation Toughe...</td>\n",
       "    </tr>\n",
       "    <tr>\n",
       "      <th>2</th>\n",
       "      <td>1700 runners still unaccounted for in UK's Lak...</td>\n",
       "    </tr>\n",
       "    <tr>\n",
       "      <th>3</th>\n",
       "      <td>Yankees Pitchers Trade Fielding Drills for Put...</td>\n",
       "    </tr>\n",
       "    <tr>\n",
       "      <th>4</th>\n",
       "      <td>Large earthquake rattles Indonesia; Seventh in...</td>\n",
       "    </tr>\n",
       "    <tr>\n",
       "      <th>...</th>\n",
       "      <td>...</td>\n",
       "    </tr>\n",
       "    <tr>\n",
       "      <th>15996</th>\n",
       "      <td>To Make Female Hearts Flutter in Iraq, Throw a...</td>\n",
       "    </tr>\n",
       "    <tr>\n",
       "      <th>15997</th>\n",
       "      <td>British Liberal Democrat Patsy Calton, 56, die...</td>\n",
       "    </tr>\n",
       "    <tr>\n",
       "      <th>15998</th>\n",
       "      <td>Drone smartphone app to help heart attack vict...</td>\n",
       "    </tr>\n",
       "    <tr>\n",
       "      <th>15999</th>\n",
       "      <td>Netanyahu Urges Pope Benedict, in Israel, to D...</td>\n",
       "    </tr>\n",
       "    <tr>\n",
       "      <th>16000</th>\n",
       "      <td>Computer Makers Prepare to Stake Bigger Claim ...</td>\n",
       "    </tr>\n",
       "  </tbody>\n",
       "</table>\n",
       "<p>16001 rows × 1 columns</p>\n",
       "</div>"
      ],
      "text/plain": [
       "                                                 message\n",
       "0      Bill Changing Credit Card Rules Is Sent to Oba...\n",
       "1      In Hollywood, the Easy-Money Generation Toughe...\n",
       "2      1700 runners still unaccounted for in UK's Lak...\n",
       "3      Yankees Pitchers Trade Fielding Drills for Put...\n",
       "4      Large earthquake rattles Indonesia; Seventh in...\n",
       "...                                                  ...\n",
       "15996  To Make Female Hearts Flutter in Iraq, Throw a...\n",
       "15997  British Liberal Democrat Patsy Calton, 56, die...\n",
       "15998  Drone smartphone app to help heart attack vict...\n",
       "15999  Netanyahu Urges Pope Benedict, in Israel, to D...\n",
       "16000  Computer Makers Prepare to Stake Bigger Claim ...\n",
       "\n",
       "[16001 rows x 1 columns]"
      ]
     },
     "metadata": {},
     "output_type": "display_data"
    }
   ],
   "source": [
    "# Dataset imports\n",
    "# first import separate datasets for Clickbait and nonClickbait\n",
    "\n",
    "clickBaitDF = pd.read_table('data/clickbait_data',header=None, names=['message'])\n",
    "display(clickBaitDF)\n",
    "nonClickBaitDF = pd.read_table('data/non_clickbait_data',header=None, names=['message'])\n",
    "display(nonClickBaitDF)"
   ]
  },
  {
   "cell_type": "markdown",
   "metadata": {
    "collapsed": false,
    "pycharm": {
     "name": "#%% md\n"
    }
   },
   "source": [
    "With the datasets imported into dataframes, we can start thinking about features and targets.\n",
    "Since the goal is to guess what headlines are likely to be 'Clickbait', we'll add a target column to both datasets\n",
    "and combine the results into a pool we can start sampling."
   ]
  },
  {
   "cell_type": "code",
   "execution_count": 3,
   "metadata": {
    "collapsed": false,
    "pycharm": {
     "name": "#%%\n"
    }
   },
   "outputs": [
    {
     "data": {
      "text/html": [
       "<div>\n",
       "<style scoped>\n",
       "    .dataframe tbody tr th:only-of-type {\n",
       "        vertical-align: middle;\n",
       "    }\n",
       "\n",
       "    .dataframe tbody tr th {\n",
       "        vertical-align: top;\n",
       "    }\n",
       "\n",
       "    .dataframe thead th {\n",
       "        text-align: right;\n",
       "    }\n",
       "</style>\n",
       "<table border=\"1\" class=\"dataframe\">\n",
       "  <thead>\n",
       "    <tr style=\"text-align: right;\">\n",
       "      <th></th>\n",
       "      <th>message</th>\n",
       "      <th>target</th>\n",
       "    </tr>\n",
       "  </thead>\n",
       "  <tbody>\n",
       "    <tr>\n",
       "      <th>0</th>\n",
       "      <td>Should I Get Bings</td>\n",
       "      <td>clickbait</td>\n",
       "    </tr>\n",
       "    <tr>\n",
       "      <th>1</th>\n",
       "      <td>Which TV Female Friend Group Do You Belong In</td>\n",
       "      <td>clickbait</td>\n",
       "    </tr>\n",
       "    <tr>\n",
       "      <th>2</th>\n",
       "      <td>The New \"Star Wars: The Force Awakens\" Trailer...</td>\n",
       "      <td>clickbait</td>\n",
       "    </tr>\n",
       "    <tr>\n",
       "      <th>3</th>\n",
       "      <td>This Vine Of New York On \"Celebrity Big Brothe...</td>\n",
       "      <td>clickbait</td>\n",
       "    </tr>\n",
       "    <tr>\n",
       "      <th>4</th>\n",
       "      <td>A Couple Did A Stunning Photo Shoot With Their...</td>\n",
       "      <td>clickbait</td>\n",
       "    </tr>\n",
       "    <tr>\n",
       "      <th>...</th>\n",
       "      <td>...</td>\n",
       "      <td>...</td>\n",
       "    </tr>\n",
       "    <tr>\n",
       "      <th>15996</th>\n",
       "      <td>To Make Female Hearts Flutter in Iraq, Throw a...</td>\n",
       "      <td>non_clickbait</td>\n",
       "    </tr>\n",
       "    <tr>\n",
       "      <th>15997</th>\n",
       "      <td>British Liberal Democrat Patsy Calton, 56, die...</td>\n",
       "      <td>non_clickbait</td>\n",
       "    </tr>\n",
       "    <tr>\n",
       "      <th>15998</th>\n",
       "      <td>Drone smartphone app to help heart attack vict...</td>\n",
       "      <td>non_clickbait</td>\n",
       "    </tr>\n",
       "    <tr>\n",
       "      <th>15999</th>\n",
       "      <td>Netanyahu Urges Pope Benedict, in Israel, to D...</td>\n",
       "      <td>non_clickbait</td>\n",
       "    </tr>\n",
       "    <tr>\n",
       "      <th>16000</th>\n",
       "      <td>Computer Makers Prepare to Stake Bigger Claim ...</td>\n",
       "      <td>non_clickbait</td>\n",
       "    </tr>\n",
       "  </tbody>\n",
       "</table>\n",
       "<p>32000 rows × 2 columns</p>\n",
       "</div>"
      ],
      "text/plain": [
       "                                                 message         target\n",
       "0                                     Should I Get Bings      clickbait\n",
       "1          Which TV Female Friend Group Do You Belong In      clickbait\n",
       "2      The New \"Star Wars: The Force Awakens\" Trailer...      clickbait\n",
       "3      This Vine Of New York On \"Celebrity Big Brothe...      clickbait\n",
       "4      A Couple Did A Stunning Photo Shoot With Their...      clickbait\n",
       "...                                                  ...            ...\n",
       "15996  To Make Female Hearts Flutter in Iraq, Throw a...  non_clickbait\n",
       "15997  British Liberal Democrat Patsy Calton, 56, die...  non_clickbait\n",
       "15998  Drone smartphone app to help heart attack vict...  non_clickbait\n",
       "15999  Netanyahu Urges Pope Benedict, in Israel, to D...  non_clickbait\n",
       "16000  Computer Makers Prepare to Stake Bigger Claim ...  non_clickbait\n",
       "\n",
       "[32000 rows x 2 columns]"
      ]
     },
     "metadata": {},
     "output_type": "display_data"
    }
   ],
   "source": [
    "clickBaitDF['target'] = pd.Series(['clickbait' for x in range(len(clickBaitDF.index))])\n",
    "nonClickBaitDF['target'] = pd.Series(['non_clickbait' for x in range(len(nonClickBaitDF.index))])\n",
    "headlinesDataset = pd.concat([clickBaitDF, nonClickBaitDF])\n",
    "display(headlinesDataset)"
   ]
  },
  {
   "cell_type": "code",
   "execution_count": 4,
   "metadata": {
    "collapsed": false,
    "pycharm": {
     "name": "#%%\n"
    }
   },
   "outputs": [
    {
     "name": "stdout",
     "output_type": "stream",
     "text": [
      "[0 0 0 ... 1 1 1]\n"
     ]
    }
   ],
   "source": [
    "# Creation of untransformed 'features' and 'target'\n",
    "X = headlinesDataset['message']\n",
    "y = headlinesDataset['target']\n",
    "vectorizer = TfidfVectorizer()\n",
    "X = vectorizer.fit_transform(X)\n",
    "label_encoder = LabelEncoder()\n",
    "y = label_encoder.fit_transform(y)\n",
    "print(y)"
   ]
  },
  {
   "cell_type": "markdown",
   "metadata": {
    "collapsed": false
   },
   "source": [
    "#     k-nearest neighbors"
   ]
  },
  {
   "cell_type": "code",
   "execution_count": 5,
   "metadata": {
    "collapsed": false,
    "pycharm": {
     "name": "#%%\n"
    }
   },
   "outputs": [
    {
     "name": "stdout",
     "output_type": "stream",
     "text": [
      "{'classifier__n_neighbors': 3}\n"
     ]
    }
   ],
   "source": [
    "X_train, X_test, y_train, y_test = train_test_split(X,y, test_size=0.33)\n",
    "knnPipeline = Pipeline([\n",
    "               ('classifier', KNeighborsClassifier(n_neighbors=1))\n",
    "])\n",
    "param_grid =[\n",
    "    {'classifier__n_neighbors': list(range(1,5))}\n",
    "]\n",
    "knnModel = GridSearchCV(knnPipeline, param_grid=param_grid)\n",
    "knnModel.fit(X_train, y_train)\n",
    "print(knnModel.best_params_)"
   ]
  },
  {
   "cell_type": "code",
   "execution_count": 6,
   "metadata": {
    "collapsed": false,
    "pycharm": {
     "name": "#%%\n"
    }
   },
   "outputs": [],
   "source": [
    "# scoring KN\n",
    "scores = {'precision':'average_precision', 'acc': 'accuracy'}\n",
    "train_scores= cross_validate(knnModel, X_train, y_train,\n",
    "                                                 cv=KFold(n_splits=5),\n",
    "                                                 scoring=scores,\n",
    "                                                 return_train_score=True)"
   ]
  },
  {
   "cell_type": "code",
   "execution_count": 7,
   "metadata": {
    "collapsed": false,
    "pycharm": {
     "name": "#%%\n"
    }
   },
   "outputs": [],
   "source": [
    "train_accuracy = train_scores.get('train_acc')\n",
    "train_precision = train_scores.get('train_precision')\n",
    "test_accuracy = train_scores.get('test_acc')\n",
    "test_precision = train_scores.get('test_precision')\n",
    "knn_avg_train_accuracy = average(train_accuracy)\n",
    "knn_std_train_accuracy = std(train_accuracy)\n",
    "knn_avg_train_precision = average(train_precision)\n",
    "knn_std_train_precision = std(train_precision)\n",
    "knn_avg_test_accuracy = average(test_accuracy)\n",
    "knn_std_test_accuracy = std(test_accuracy)\n",
    "knn_avg_test_precision = average(test_precision)\n",
    "knn_std_test_precision = std(test_precision)\n"
   ]
  },
  {
   "cell_type": "markdown",
   "metadata": {
    "collapsed": false
   },
   "source": [
    "#     Naïve Bayes"
   ]
  },
  {
   "cell_type": "code",
   "execution_count": 8,
   "metadata": {
    "collapsed": false,
    "pycharm": {
     "name": "#%%\n"
    }
   },
   "outputs": [
    {
     "name": "stdout",
     "output_type": "stream",
     "text": [
      "{'classifier__alpha': 0.1}\n"
     ]
    }
   ],
   "source": [
    "X_train, X_test, y_train, y_test = train_test_split(X,y, test_size=0.33)\n",
    "bayesianPipeline = Pipeline([\n",
    "               ('classifier', MultinomialNB())\n",
    "])\n",
    "param_grid =[\n",
    "    {'classifier__alpha': [0.01, 0.1, 0.3, 0.6, 0.9, 1]}\n",
    "]\n",
    "bayesianModel = GridSearchCV(bayesianPipeline, param_grid=param_grid)\n",
    "bayesianModel.fit(X_train, y_train)\n",
    "print(bayesianModel.best_params_)"
   ]
  },
  {
   "cell_type": "code",
   "execution_count": 9,
   "metadata": {
    "collapsed": false,
    "pycharm": {
     "name": "#%%\n"
    }
   },
   "outputs": [],
   "source": [
    "# scoring Bayesian Approach\n",
    "scores = {'precision':'average_precision', 'acc': 'accuracy'}\n",
    "train_scores= cross_validate(bayesianModel, X_train, y_train,\n",
    "                                                 cv=KFold(n_splits=5),\n",
    "                                                 scoring=scores,\n",
    "                                                 return_train_score=True)"
   ]
  },
  {
   "cell_type": "code",
   "execution_count": 10,
   "metadata": {
    "collapsed": false,
    "pycharm": {
     "name": "#%%\n"
    }
   },
   "outputs": [
    {
     "name": "stdout",
     "output_type": "stream",
     "text": [
      "{'fit_time': array([0.1605711 , 0.1665554 , 0.14660811, 0.16954732, 0.15461969]), 'score_time': array([0.00299191, 0.00199437, 0.00199533, 0.00299168, 0.00199413]), 'test_precision': array([0.99721499, 0.99747512, 0.99664473, 0.99626934, 0.9956693 ]), 'train_precision': array([0.99963603, 0.99965255, 0.99945385, 0.99969622, 0.9995335 ]), 'test_acc': array([0.97621269, 0.97318097, 0.96991604, 0.97108209, 0.96758396]), 'train_acc': array([0.99090485, 0.99090485, 0.98857276, 0.99148787, 0.98973881])}\n"
     ]
    }
   ],
   "source": [
    "train_accuracy = train_scores.get('train_acc')\n",
    "train_precision = train_scores.get('train_precision')\n",
    "test_accuracy = train_scores.get('test_acc')\n",
    "test_precision = train_scores.get('test_precision')\n",
    "bayesian_avg_train_accuracy = average(train_accuracy)\n",
    "bayesian_std_train_accuracy = std(train_accuracy)\n",
    "bayesian_avg_train_precision = average(train_precision)\n",
    "bayesian_std_train_precision = std(train_precision)\n",
    "bayesian_avg_test_accuracy = average(test_accuracy)\n",
    "bayesian_std_test_accuracy = std(test_accuracy)\n",
    "bayesian_avg_test_precision = average(test_precision)\n",
    "bayesian_std_test_precision = std(test_precision)\n",
    "print(train_scores)\n"
   ]
  },
  {
   "cell_type": "markdown",
   "metadata": {
    "collapsed": false
   },
   "source": [
    "#     Multilayer perceptron"
   ]
  },
  {
   "cell_type": "code",
   "execution_count": 17,
   "metadata": {
    "collapsed": false,
    "pycharm": {
     "name": "#%%\n"
    }
   },
   "outputs": [
    {
     "name": "stdout",
     "output_type": "stream",
     "text": [
      "{'classifier__hidden_layer_sizes': (5,)}\n",
      "{'classifier__hidden_layer_sizes': (10, 20)}\n"
     ]
    }
   ],
   "source": [
    "X_train, X_test, y_train, y_test = train_test_split(X,y, test_size=0.33)\n",
    "mlpPipeline = Pipeline([\n",
    "               ('classifier', MLPClassifier(max_iter=500))\n",
    "])\n",
    "param_grid =[\n",
    "    {'classifier__hidden_layer_sizes': [(2,2),(2,5),(2,10),\n",
    "                                        (5,2), (5,5), (5,10),\n",
    "                                        (10,2), (10,5), (10,10), (10,20)]}\n",
    "]\n",
    "mlpModel = GridSearchCV(mlpPipeline, param_grid=param_grid)\n",
    "mlpModel.fit(X_train, y_train)\n",
    "print(mlpModel.best_params_)"
   ]
  },
  {
   "cell_type": "code",
   "execution_count": 12,
   "metadata": {
    "collapsed": false,
    "pycharm": {
     "name": "#%%\n"
    }
   },
   "outputs": [
    {
     "name": "stderr",
     "output_type": "stream",
     "text": [
      "c:\\users\\ssmei\\pycharmprojects\\module5hw\\venv\\lib\\site-packages\\sklearn\\neural_network\\_multilayer_perceptron.py:699: UserWarning: Training interrupted by user.\n",
      "  warnings.warn(\"Training interrupted by user.\")\n",
      "c:\\users\\ssmei\\pycharmprojects\\module5hw\\venv\\lib\\site-packages\\sklearn\\neural_network\\_multilayer_perceptron.py:699: UserWarning: Training interrupted by user.\n",
      "  warnings.warn(\"Training interrupted by user.\")\n",
      "c:\\users\\ssmei\\pycharmprojects\\module5hw\\venv\\lib\\site-packages\\sklearn\\neural_network\\_multilayer_perceptron.py:699: UserWarning: Training interrupted by user.\n",
      "  warnings.warn(\"Training interrupted by user.\")\n"
     ]
    }
   ],
   "source": [
    "# scoring MLP Approach\n",
    "scores = {'precision':'average_precision', 'acc': 'accuracy'}\n",
    "train_scores= cross_validate(mlpModel, X_train, y_train,\n",
    "                                                 cv=KFold(n_splits=5),\n",
    "                                                 scoring=scores,\n",
    "                                                 return_train_score=True)\n",
    "\n",
    "train_accuracy = train_scores.get('train_acc')\n",
    "train_precision = train_scores.get('train_precision')\n",
    "test_accuracy = train_scores.get('test_acc')\n",
    "test_precision = train_scores.get('test_precision')\n",
    "mlp_avg_train_accuracy = average(train_accuracy)\n",
    "mlp_std_train_accuracy = std(train_accuracy)\n",
    "mlp_avg_train_precision = average(train_precision)\n",
    "mlp_std_train_precision = std(train_precision)\n",
    "mlp_avg_test_accuracy = average(test_accuracy)\n",
    "mlp_std_test_accuracy = std(test_accuracy)\n",
    "mlp_avg_test_precision = average(test_precision)\n",
    "mlp_std_test_precision = std(test_precision)\n",
    "print(train_scores)"
   ]
  },
  {
   "cell_type": "markdown",
   "metadata": {
    "collapsed": false,
    "pycharm": {
     "name": "#%% md\n"
    }
   },
   "source": [
    "# Results\n",
    "\n",
    "    Data representation used:\n",
    "        Tfidf\n",
    "    Metrics used to rank the models:\n",
    "        Accuracy and Precision were used to both track accuracy and the number of false positives and negatives.\n",
    "\n",
    "    Hyperparameters for optimal results in the cross validation:\n",
    "        KNN: Cross validated with a range of neighbors from 1 to 5. The optimal amount was 3\n",
    "\n",
    "        Naive Bayes: Cross validated with alpha values from 0.01 to 1. The optimal values was 0.1\n",
    "\n",
    "        MLP: Cross validated with a set of Arrangements. The optimal was (5,0) or 1 hidden layer of 5 neurons.\n",
    "\n",
    "    Describe a way in which your classifier could be used as a plugin for a web browser, for example.\n",
    "        A clickbait classifier could be used for applications such as blocking, content moderation, or to determine the credibility of an article.\n",
    "\n",
    "Scores listed below:\n"
   ]
  },
  {
   "cell_type": "markdown",
   "metadata": {
    "collapsed": false,
    "pycharm": {
     "name": "#%% md\n"
    }
   },
   "source": [
    "#### K-Nearest Neighbors"
   ]
  },
  {
   "cell_type": "code",
   "execution_count": 14,
   "metadata": {
    "collapsed": false,
    "pycharm": {
     "name": "#%%\n"
    }
   },
   "outputs": [
    {
     "name": "stdout",
     "output_type": "stream",
     "text": [
      "KNN average train precision:  0.9939542112245213  +/-  0.0002160508816649522\n",
      "KNN average test precision:  0.9672433150236728  +/-  0.0020032999940039014\n",
      "KNN average train accuracy:  0.9681086753731343  +/-  0.00040224319754337504\n",
      "KNN average test accuracy:  0.9326492537313433  +/-  0.0022725611408731163\n"
     ]
    }
   ],
   "source": [
    "print('KNN average train precision: ', knn_avg_train_precision, ' +/- ', knn_std_train_precision)\n",
    "print('KNN average test precision: ', knn_avg_test_precision, ' +/- ', knn_std_test_precision)\n",
    "print('KNN average train accuracy: ', knn_avg_train_accuracy, ' +/- ', knn_std_train_accuracy)\n",
    "print('KNN average test accuracy: ', knn_avg_test_accuracy, ' +/- ', knn_std_test_accuracy)"
   ]
  },
  {
   "cell_type": "markdown",
   "metadata": {
    "collapsed": false
   },
   "source": [
    "#### Bayesian Model"
   ]
  },
  {
   "cell_type": "code",
   "execution_count": 15,
   "metadata": {
    "collapsed": false,
    "pycharm": {
     "name": "#%%\n"
    }
   },
   "outputs": [
    {
     "name": "stdout",
     "output_type": "stream",
     "text": [
      "Bayesian average train precision:  0.9995944274565298  +/-  8.825443342709197e-05\n",
      "Bayesian average test precision:  0.9966546948669276  +/-  0.0006490966211695306\n",
      "Bayesian average train accuracy:  0.990321828358209  +/-  0.001042942153684622\n",
      "Bayesian average test accuracy:  0.9715951492537312  +/-  0.0029328749854967352\n"
     ]
    }
   ],
   "source": [
    "print('Bayesian average train precision: ', bayesian_avg_train_precision, ' +/- ', bayesian_std_train_precision)\n",
    "print('Bayesian average test precision: ', bayesian_avg_test_precision, ' +/- ', bayesian_std_test_precision)\n",
    "print('Bayesian average train accuracy: ', bayesian_avg_train_accuracy, ' +/- ', bayesian_std_train_accuracy)\n",
    "print('Bayesian average test accuracy: ', bayesian_avg_test_accuracy, ' +/- ', bayesian_std_test_accuracy)"
   ]
  },
  {
   "cell_type": "markdown",
   "metadata": {
    "collapsed": false
   },
   "source": [
    "#### Multi-Layer Perceptron"
   ]
  },
  {
   "cell_type": "code",
   "execution_count": 16,
   "metadata": {
    "collapsed": false,
    "pycharm": {
     "name": "#%%\n"
    }
   },
   "outputs": [
    {
     "name": "stdout",
     "output_type": "stream",
     "text": [
      "MLP average train precision:  1.0  +/-  4.965068306494546e-17\n",
      "MLP average test precision:  0.9967605519826179  +/-  0.0003260941418391932\n",
      "MLP average train accuracy:  0.9999533582089551  +/-  9.32835820895317e-05\n",
      "MLP average test accuracy:  0.9732276119402986  +/-  0.00112714981096963\n"
     ]
    }
   ],
   "source": [
    "print('MLP average train precision: ', mlp_avg_train_precision, ' +/- ', mlp_std_train_precision)\n",
    "print('MLP average test precision: ', mlp_avg_test_precision, ' +/- ', mlp_std_test_precision)\n",
    "print('MLP average train accuracy: ', mlp_avg_train_accuracy, ' +/- ', mlp_std_train_accuracy)\n",
    "print('MLP average test accuracy: ', mlp_avg_test_accuracy, ' +/- ', mlp_std_test_accuracy)"
   ]
  }
 ],
 "metadata": {
  "kernelspec": {
   "display_name": "Python 3",
   "language": "python",
   "name": "python3"
  },
  "language_info": {
   "codemirror_mode": {
    "name": "ipython",
    "version": 2
   },
   "file_extension": ".py",
   "mimetype": "text/x-python",
   "name": "python",
   "nbconvert_exporter": "python",
   "pygments_lexer": "ipython2",
   "version": "2.7.6"
  }
 },
 "nbformat": 4,
 "nbformat_minor": 0
}
